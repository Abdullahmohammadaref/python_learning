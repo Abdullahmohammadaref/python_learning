{
 "cells": [
  {
   "metadata": {},
   "cell_type": "markdown",
   "source": "Q1",
   "id": "c05e8437c647a010"
  },
  {
   "cell_type": "code",
   "id": "initial_id",
   "metadata": {
    "collapsed": true,
    "ExecuteTime": {
     "end_time": "2024-12-18T09:29:14.842622Z",
     "start_time": "2024-12-18T09:29:12.975139Z"
    }
   },
   "source": [
    "import datetime\n",
    "from datetime import date\n",
    "\n",
    "my_birthday = input(\"enter your birthday: \")  # stores the birthday input from the user in a dd.mm.yyyy format.\n",
    "day, month, year = my_birthday.split(\".\") # stores the day, month, and year each as individual variable from the my_birthday variable that the user have entered using a split to show which parts of the string my_birthday should be assigned for each value\n",
    "\n",
    "my_birthday =datetime.date(int(year), int(month), int(day)) # create a date object using the datetime library and converting the previous day, mont, year values into integers.\n",
    "\n",
    "today = date.today() # story today date using the datetime library in a today variable.\n",
    "\n",
    "days_lived = today - my_birthday    # calculating how many days are between today and the inputed birthday, then storing them in a days_lived variable.\n",
    "\n",
    "print(days_lived.days)  # printing howmany days lived. and using the datetime \"days\" function to only print the days.\n"
   ],
   "outputs": [
    {
     "name": "stdout",
     "output_type": "stream",
     "text": [
      "7085\n"
     ]
    }
   ],
   "execution_count": 12
  },
  {
   "metadata": {},
   "cell_type": "markdown",
   "source": "Q2",
   "id": "1c652676c4270283"
  },
  {
   "metadata": {
    "ExecuteTime": {
     "end_time": "2024-12-18T09:39:23.091986Z",
     "start_time": "2024-12-18T09:39:19.907956Z"
    }
   },
   "cell_type": "code",
   "source": [
    "user_input = input(\"input a word: \")   # store the word inputed by the user in a user_input variable.\n",
    "\n",
    "if user_input == user_input[::-1]:    # This if statement checks weather the user_input is the same as the reversed user_input. It prints \"The word is palindrome\" if it is the same, and it prints \"The word is not palindrome\" if it is not the same.\n",
    "    print(\"The word is palindrome\")\n",
    "else:\n",
    "    print(\"The word is not palindrome\")"
   ],
   "id": "8422fa23e7df2103",
   "outputs": [
    {
     "name": "stdout",
     "output_type": "stream",
     "text": [
      "The word is palindrome\n"
     ]
    }
   ],
   "execution_count": 14
  },
  {
   "metadata": {},
   "cell_type": "markdown",
   "source": "Q3",
   "id": "a373b5fa61e90d3c"
  },
  {
   "metadata": {
    "ExecuteTime": {
     "end_time": "2024-12-18T10:20:10.399536Z",
     "start_time": "2024-12-18T10:20:10.393983Z"
    }
   },
   "cell_type": "code",
   "source": [
    "def word_counter(sentence):\n",
    "    \"\"\"\n",
    "    This function takes a string as an input. \n",
    "    Then is changes all the letter cases in that string to lower case, and it splits the string into words.\n",
    "    \n",
    "    after that it defines a local variable called length that stores the number of words in  that string\n",
    "    \n",
    "    after that it creates and stores a dictionary in a frequency_of_words local variable. this dictionary is then filled with all the words in the input string and the number of times each word have been repeated inside that string\n",
    "    \n",
    "    after that is stores the word with the highest frequency count into the most_frequent_words local variable.\n",
    "    \n",
    "    Finally it returns all these local variables (length, most_frequent_word, frequency_of_words) in one list.\n",
    "    \"\"\"\n",
    "    sentence = sentence.lower().split(\" \")\n",
    "    length = len(sentence)\n",
    "    \n",
    "    frequency_of_words = {}\n",
    "    for word in sentence:\n",
    "        if word in frequency_of_words:\n",
    "            frequency_of_words[word] += 1\n",
    "        elif word not in frequency_of_words:\n",
    "            frequency_of_words[word] = 1\n",
    "            \n",
    "    most_frequent_word = max(frequency_of_words, key=frequency_of_words.get)\n",
    "    \n",
    "    return [length, most_frequent_word, frequency_of_words]\n",
    "\n",
    "def main():\n",
    "    \n",
    "    input_text = \"Write a Python script that counts the number of words in a string and find the most frequent one. This question is part of the Python exam. Your Python script does not care about letter cases. Good luck!\"   # storing the testing text into a input_text variable.\n",
    "    output = word_counter(input_text)  # calling the word_counter function and giving it the input_text variable\n",
    "    \n",
    "    print(f\"Number of words: {output[0]}\") # this prints the first item in the returned list which is the number of words in the input_text\n",
    "    print(f\"Most frequent word: {output[1]}\") # This prints the second item in the returnd list which is the most repeated word in the input_text variable\n",
    "    for word in output[2]: # this loop prints the third item in the list. this item is a dictionary that contains the words and their relative count. So this loop will print both of these values for every word in the list\n",
    "        print(f\"number of occurrences of {word}: {output[2][word]}\")\n",
    "\n",
    "if __name__ == \"__main__\": # the main() function will be called only if the function is at the start of the program\n",
    "    main()\n",
    "\n"
   ],
   "id": "352769618e758cc9",
   "outputs": [
    {
     "name": "stdout",
     "output_type": "stream",
     "text": [
      "Number of words: 38\n",
      "Most frequent word: python\n",
      "number of occurrences of write: 1\n",
      "number of occurrences of a: 2\n",
      "number of occurrences of python: 3\n",
      "number of occurrences of script: 2\n",
      "number of occurrences of that: 1\n",
      "number of occurrences of counts: 1\n",
      "number of occurrences of the: 3\n",
      "number of occurrences of number: 1\n",
      "number of occurrences of of: 2\n",
      "number of occurrences of words: 1\n",
      "number of occurrences of in: 1\n",
      "number of occurrences of string: 1\n",
      "number of occurrences of and: 1\n",
      "number of occurrences of find: 1\n",
      "number of occurrences of most: 1\n",
      "number of occurrences of frequent: 1\n",
      "number of occurrences of one.: 1\n",
      "number of occurrences of this: 1\n",
      "number of occurrences of question: 1\n",
      "number of occurrences of is: 1\n",
      "number of occurrences of part: 1\n",
      "number of occurrences of exam.: 1\n",
      "number of occurrences of your: 1\n",
      "number of occurrences of does: 1\n",
      "number of occurrences of not: 1\n",
      "number of occurrences of care: 1\n",
      "number of occurrences of about: 1\n",
      "number of occurrences of letter: 1\n",
      "number of occurrences of cases.: 1\n",
      "number of occurrences of good: 1\n",
      "number of occurrences of luck!: 1\n"
     ]
    }
   ],
   "execution_count": 31
  },
  {
   "metadata": {},
   "cell_type": "markdown",
   "source": "Q4",
   "id": "2e095a085370739e"
  },
  {
   "metadata": {
    "ExecuteTime": {
     "end_time": "2024-12-18T11:02:11.521652Z",
     "start_time": "2024-12-18T11:02:11.517416Z"
    }
   },
   "cell_type": "code",
   "source": [
    "import random\n",
    "\n",
    "def random_fruit_selector(fruits):\n",
    "    \n",
    "    \"\"\"\n",
    "    This function takes the list of fruits as a input.\n",
    "    \n",
    "    I then uses the random.choices library method to select a random fruit from the list according to the probability of each fruit\n",
    "    \n",
    "    finally the selected fruit is returned \n",
    "    \"\"\"\n",
    "    \n",
    "    next_word = random.(list(fruits.keys()), weights=fruits.values())\n",
    "    \n",
    "    return next_word\n",
    "\n",
    "def main():\n",
    "    \n",
    "    items = {             # stores the items of the dictinary in a list variable called items\n",
    "    'apple': 0.1,\n",
    "    'banana': 0.3,\n",
    "    'cherry': 0.2,\n",
    "    'date': 0.4\n",
    "    }\n",
    "    \n",
    "    random_fruit = random_fruit_selector(items)     # calling the random_fruit_selector function and giving it the items dictionary variable\n",
    "    \n",
    "    print(random_fruit)  # printing the returned fruit from the random_fruit_selector function\n",
    "    \n",
    "if __name__ == \"__main__\": # the main() function will be called only if the function is at the start of the program\n",
    "    main()\n",
    "\n"
   ],
   "id": "60be1ac535e66af3",
   "outputs": [
    {
     "name": "stdout",
     "output_type": "stream",
     "text": [
      "['cherry']\n"
     ]
    }
   ],
   "execution_count": 57
  },
  {
   "metadata": {},
   "cell_type": "markdown",
   "source": "Q5",
   "id": "bca68a11160dcbb2"
  },
  {
   "metadata": {
    "ExecuteTime": {
     "end_time": "2024-12-18T11:56:11.164443Z",
     "start_time": "2024-12-18T11:56:11.154242Z"
    }
   },
   "cell_type": "code",
   "source": [
    "class Car:\n",
    "    def __init__(self, make, model, year, odometer_reading):\n",
    "        self.make = make\n",
    "        self.model = model\n",
    "        self.year = year\n",
    "        self.odometer_reading = odometer_reading\n",
    "\n",
    "    def get_description(self):\n",
    "        return f\"{self.make}, {self.model}, {self.year}, {self.odometer_reading}\"\n",
    "        \n",
    "\n",
    "    def read_odometer(self):\n",
    "        return self.odometer_reading\n",
    "\n",
    "    def update_odometer(self, milage):\n",
    "        if milage > self.odometer_reading:\n",
    "            self.odometer_reading = milage\n",
    "\n",
    "\n",
    "class CarOwner:\n",
    "\n",
    "    def __init__(self, name, address):\n",
    "        self.name = name\n",
    "        self.address = address\n",
    "\n",
    "    def get_owner_info(self):\n",
    "        return f\"-{self.name}, {self.address}\"\n",
    "\n",
    "\n",
    "class RegistrationDepartment():\n",
    "\n",
    "    def __init__(self, registrations):\n",
    "        self.registrations = {}\n",
    "\n",
    "    def register_car(self, car, owner):\n",
    "        self.registrations.update({car: owner})\n",
    "    def get_registration_info(self,car):\n",
    "        return self.registrations.get(car)\n",
    "\n",
    "    def add_owner_car(self, owner, car):\n",
    "        ...\n",
    "\n",
    "    def delete_owner_car(self, owner,car):\n",
    "        ...\n",
    "\n",
    "\n",
    "def main():\n",
    "    owner1 = CarOwner(\"Abdullah\", \"street 1\")\n",
    "    owner2 = CarOwner(\"khaled\", \"street 2\")\n",
    "    owner3 = CarOwner(\"jamal\", \"street 3\")\n",
    "    owner4 = CarOwner(\"ahmad\", \"street 5\")\n",
    "\n",
    "    car1 = Car(\"kia\", \"jeep\", 2005, 3000)\n",
    "    car2 = Car(\"ford\", \"focus\", 2003, 4000)\n",
    "    car3 = Car(\"dodge\", \"chrger\", 2010, 5000)\n",
    "    car4 = Car(\"tesla\", \"model s\", 2024, 6000)\n",
    "\n",
    "    department1 = RegistrationDepartment({car1: owner1, car2: owner2, car3: owner3, car4: owner4})\n",
    "\n",
    "\n",
    "    print(Car.get_description(car1))\n",
    "    print(Car.get_description(car2))\n",
    "    print(Car.get_description(car3))\n",
    "    print(Car.get_description(car4))\n",
    "\n",
    "    print(Car.read_odometer(car1))\n",
    "    print(Car.read_odometer(car2))\n",
    "    print(Car.read_odometer(car3))\n",
    "    print(Car.read_odometer(car4))\n",
    "\n",
    "    print(CarOwner.get_owner_info(owner1))\n",
    "    print(CarOwner.get_owner_info(owner2))\n",
    "    print(CarOwner.get_owner_info(owner3))\n",
    "    print(CarOwner.get_owner_info(owner4))\n",
    "\n",
    "    print(RegistrationDepartment({car1: owner1, car2: owner2}))\n",
    "\n",
    "\n",
    "if __name__ == '__main__':\n",
    "    main()\n",
    "        "
   ],
   "id": "f4aa9626e6a0368e",
   "outputs": [
    {
     "name": "stdout",
     "output_type": "stream",
     "text": [
      "kia, jeep, 2005, 3000\n",
      "ford, focus, 2003, 4000\n",
      "dodge, chrger, 2010, 5000\n",
      "tesla, model s, 2024, 6000\n",
      "3000\n",
      "4000\n",
      "5000\n",
      "6000\n",
      "-Abdullah, street 1\n",
      "-khaled, street 2\n",
      "-jamal, street 3\n",
      "-ahmad, street 5\n",
      "<__main__.RegistrationDepartment object at 0x000002BD2D241CD0>\n"
     ]
    }
   ],
   "execution_count": 62
  }
 ],
 "metadata": {
  "kernelspec": {
   "display_name": "Python 3",
   "language": "python",
   "name": "python3"
  },
  "language_info": {
   "codemirror_mode": {
    "name": "ipython",
    "version": 2
   },
   "file_extension": ".py",
   "mimetype": "text/x-python",
   "name": "python",
   "nbconvert_exporter": "python",
   "pygments_lexer": "ipython2",
   "version": "2.7.6"
  }
 },
 "nbformat": 4,
 "nbformat_minor": 5
}
