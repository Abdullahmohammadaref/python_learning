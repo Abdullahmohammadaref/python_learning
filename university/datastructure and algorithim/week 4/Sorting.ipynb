{
 "cells": [
  {
   "metadata": {},
   "cell_type": "markdown",
   "source": "![Image Name](img_1.png)",
   "id": "d638fafabea7de94"
  },
  {
   "metadata": {},
   "cell_type": "markdown",
   "source": "1:",
   "id": "173ca602b23ae91c"
  },
  {
   "cell_type": "code",
   "execution_count": null,
   "id": "initial_id",
   "metadata": {
    "collapsed": true
   },
   "outputs": [],
   "source": [
    "import numpy as np\n",
    "\n",
    "from university.week_1.hello import check\n",
    "\n",
    "original_array = np.array([9, 5, 2, 4, 2, 8, 5], dtype = int)\n",
    "\n",
    "count_array = np.zeros(np.max(original_array) + 1, dtype=int) #[0, 0, 0, 0, 0, 0, 0, 0, 0, 0]\n",
    "for number in original_array: #[0, 0, 2, 0, 1, 2, 0, 0, 1, 1]\n",
    "    count_array[number] += 1\n",
    "\n",
    "increment_array = np.array([], dtype=int)\n",
    "total = 0\n",
    "index = 0\n",
    "for number in (count_array):  # [0 0 2 0 3 5 0 0 6 7]\n",
    "    if number <= 0:\n",
    "        increment_array = np.append(increment_array, 0)\n",
    "        index += 1\n",
    "        continue\n",
    "    else:\n",
    "        increment_array = np.append(increment_array, number + total)\n",
    "        total += count_array[index]\n",
    "        index += 1\n",
    "\n",
    "sorted_array = np.zeros_like(original_array) #[0, 0, 0, 0, 0, 0, 0]\n",
    "for number in original_array:\n",
    "    increment_array[number] -= 1\n",
    "    sorted_array[increment_array[number]] = number\n",
    "\n",
    "print(sorted_array)"
   ]
  },
  {
   "metadata": {},
   "cell_type": "markdown",
   "source": "2:",
   "id": "8550a3645f4a6063"
  },
  {
   "metadata": {},
   "cell_type": "code",
   "outputs": [],
   "execution_count": null,
   "source": [
    "import numpy as np\n",
    "\n",
    "original_array = np.array([9, 5, 2, 4, 2, 8, 5])\n",
    "max_val = np.max(original_array)\n",
    "count_arr = np.zeros(max_val + 1, dtype=int)\n",
    "\n",
    "# Count the occurrences of each element\n",
    "for num in original_array:\n",
    "    count_arr[num] += 1\n",
    "\n",
    "# Fill the sorted array\n",
    "sorted_array = np.zeros_like(original_array)\n",
    "index = 0\n",
    "for i in range(max_val + 1):\n",
    "    for j in range(count_arr[i]):\n",
    "        sorted_array[index] = i\n",
    "        index += 1\n",
    "\n",
    "print(sorted_array)"
   ],
   "id": "f631382e36115947"
  },
  {
   "metadata": {},
   "cell_type": "markdown",
   "source": [
    "explination 2:\n",
    "Initial State:\n",
    "\n",
    "original_array = [9, 5, 2, 4, 2, 8, 5]\n",
    "count_arr = [0, 0, 2, 1, 1, 2, 0, 1, 1]\n",
    "sorted_array = [0, 0, 0, 0, 0, 0, 0]\n",
    "index = 0\n",
    "Iteration 1: i = 0\n",
    "\n",
    "count_arr[0] = 0, so we don't place any 0s in the sorted_array.\n",
    "Iteration 2: i = 1\n",
    "\n",
    "count_arr[1] = 0, so we don't place any 1s in the sorted_array.\n",
    "Iteration 3: i = 2\n",
    "\n",
    "count_arr[2] = 2, so we place 2 twice in the sorted_array:\n",
    "sorted_array = [2, 2, 0, 0, 0, 0, 0]\n",
    "index = 2\n",
    "Iteration 4: i = 3\n",
    "\n",
    "count_arr[3] = 1, so we place 3 once in the sorted_array:\n",
    "sorted_array = [2, 2, 3, 0, 0, 0, 0]\n",
    "index = 3\n",
    "Iteration 5: i = 4\n",
    "\n",
    "count_arr[4] = 1, so we place 4 once in the sorted_array:\n",
    "sorted_array = [2, 2, 3, 4, 0, 0, 0]\n",
    "index = 4\n",
    "Iteration 6: i = 5\n",
    "\n",
    "count_arr[5] = 2, so we place 5 twice in the sorted_array:\n",
    "sorted_array = [2, 2, 3, 4, 5, 5, 0]\n",
    "index = 6\n",
    "Iteration 7: i = 6\n",
    "\n",
    "count_arr[6] = 0, so we don't place any 6s in the sorted_array.\n",
    "Iteration 8: i = 7\n",
    "\n",
    "count_arr[7] = 1, so we place 7 once in the sorted_array:\n",
    "sorted_array = [2, 2, 3, 4, 5, 5, 7]\n",
    "index = 7\n",
    "Iteration 9: i = 8\n",
    "\n",
    "count_arr[8] = 1, so we place 8 once in the sorted_array:\n",
    "sorted_array = [2, 2, 3, 4, 5, 5, 7, 8]\n",
    "index = 8\n",
    "Final Sorted Array:\n",
    "\n",
    "sorted_array = [2, 2, 3, 4, 5, 5, 7, 8, 9]\n",
    "As you can see, the algorithm effectively sorts the array by iterating through the count_arr and placing the corresponding numbers into the sorted_array based on their frequencies.\n",
    "\n",
    "https://www.cs.usfca.edu/~galles/visualization/CountingSort.html"
   ],
   "id": "992b208bfb670ec3"
  },
  {
   "metadata": {},
   "cell_type": "markdown",
   "source": "![Image Name](img_2.png)",
   "id": "db44c7958029d841"
  },
  {
   "metadata": {},
   "cell_type": "markdown",
   "source": "![Image Name](img_3.png)",
   "id": "c8ab14950860e9ac"
  },
  {
   "metadata": {
    "ExecuteTime": {
     "end_time": "2024-12-08T01:08:02.726083Z",
     "start_time": "2024-12-08T01:08:02.718814Z"
    }
   },
   "cell_type": "code",
   "source": [
    "import numpy as np\n",
    "\n",
    "original_array = np.array([32, 1, 10, 5, 2])\n",
    "for num in range(1, len(original_array)):\n",
    "    key = original_array[num]\n",
    "    j = num - 1\n",
    "    while j >= 0 and original_array[j] > key:\n",
    "        original_array[j + 1] = original_array[j]\n",
    "        j -= 1\n",
    "    original_array[j + 1] = key\n",
    "print(original_array)"
   ],
   "id": "c46de06bdaccb515",
   "outputs": [
    {
     "name": "stdout",
     "output_type": "stream",
     "text": [
      "[ 1  2  5 10 32]\n"
     ]
    }
   ],
   "execution_count": 4
  },
  {
   "metadata": {},
   "cell_type": "markdown",
   "source": "",
   "id": "7822174c1eb29844"
  },
  {
   "metadata": {},
   "cell_type": "markdown",
   "source": "![Image Name](img_4.png)",
   "id": "6fd44fd97ce08e1f"
  },
  {
   "metadata": {},
   "cell_type": "markdown",
   "source": "![Image Name](img_5.png)",
   "id": "b1a7799e3eb35d3d"
  },
  {
   "metadata": {
    "ExecuteTime": {
     "end_time": "2024-12-08T01:55:37.032824Z",
     "start_time": "2024-12-08T01:55:37.018682Z"
    }
   },
   "cell_type": "code",
   "source": [
    "import numpy as np\n",
    "\n",
    "array = np.array([5, 3, 8, 4, 6])\n",
    "check_array = array\n",
    "while not np.array_equal(check_array, array):\n",
    "    check_array = array\n",
    "    for num in range(1, len(array)):\n",
    "        index = array[num]\n",
    "        if array[num] < array[num - 1]:\n",
    "            array[num] = array[num - 1]\n",
    "            array[num - 1] = index\n",
    "print(array)"
   ],
   "id": "e19cd6d314c3e3a7",
   "outputs": [
    {
     "name": "stdout",
     "output_type": "stream",
     "text": [
      "[5 3 8 4 6]\n"
     ]
    }
   ],
   "execution_count": 13
  },
  {
   "metadata": {},
   "cell_type": "code",
   "outputs": [],
   "execution_count": null,
   "source": [
    "def bubble_sort(arr):\n",
    "    n = len(arr)\n",
    "\n",
    "    # Traverse through all array elements\n",
    "    for i in range(n):\n",
    "\n",
    "        # Last i elements are already in place\n",
    "        for j in range(0, n-i-1):\n",
    "\n",
    "            # Traverse the array from 0 to n-i-1\n",
    "            # Swap if the element found is greater\n",
    "            # than the next element\n",
    "            if arr[j] > arr[j+1] :\n",
    "                arr[j], arr[j+1] = arr[j+1], arr[j]\n",
    "\n",
    "# Example usage\n",
    "arr = [64, 34, 25, 12, 22, 11, 90]\n",
    "\n",
    "bubble_sort(arr)\n",
    "\n",
    "print(\"Sorted array is:\")\n",
    "for i in range(len(arr)):\n",
    "    print(\"%d\" %arr[i], end=\" \")"
   ],
   "id": "52f437e3322744d3"
  },
  {
   "metadata": {},
   "cell_type": "markdown",
   "source": "![Image Name](img_6.png)",
   "id": "55aadcd960d4b32a"
  },
  {
   "metadata": {},
   "cell_type": "markdown",
   "source": "![Image Name](img_7.png)",
   "id": "cb187ca3fdd8ea79"
  },
  {
   "metadata": {},
   "cell_type": "markdown",
   "source": "![Image Name](img_9.png)",
   "id": "6a6901b783191de0"
  },
  {
   "metadata": {},
   "cell_type": "code",
   "outputs": [],
   "execution_count": null,
   "source": "",
   "id": "58e2f290626a7f4b"
  },
  {
   "metadata": {},
   "cell_type": "code",
   "outputs": [],
   "execution_count": null,
   "source": [
    "def selection_sort(arr):\n",
    "    n = len(arr)\n",
    "\n",
    "    # Traverse through all array elements\n",
    "    for i in range(n):\n",
    "        # Find the minimum element in remaining unsorted array\n",
    "        min_idx = i\n",
    "        for j in range(i+1, n):\n",
    "            if arr[min_idx] > arr[j]:\n",
    "                min_idx = j\n",
    "\n",
    "        # Swap the found minimum element with the first element\n",
    "        arr[i], arr[min_idx] = arr[min_idx], arr[i]\n",
    "\n",
    "# Example usage\n",
    "arr = [64, 25, 12, 22, 11]\n",
    "\n",
    "selection_sort(arr)\n",
    "\n",
    "print(\"Sorted array\")\n",
    "for i in range(len(arr)):\n",
    "    print(\"%d\" % arr[i], end=\" \")"
   ],
   "id": "be89b46b7fdd7869"
  },
  {
   "metadata": {},
   "cell_type": "markdown",
   "source": "![Image Name](img_8.png)",
   "id": "7aca92965144e76c"
  }
 ],
 "metadata": {
  "kernelspec": {
   "display_name": "Python 3",
   "language": "python",
   "name": "python3"
  },
  "language_info": {
   "codemirror_mode": {
    "name": "ipython",
    "version": 2
   },
   "file_extension": ".py",
   "mimetype": "text/x-python",
   "name": "python",
   "nbconvert_exporter": "python",
   "pygments_lexer": "ipython2",
   "version": "2.7.6"
  }
 },
 "nbformat": 4,
 "nbformat_minor": 5
}
