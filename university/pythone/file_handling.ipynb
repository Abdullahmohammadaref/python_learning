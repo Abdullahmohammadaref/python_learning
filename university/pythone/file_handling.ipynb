{
 "cells": [
  {
   "cell_type": "markdown",
   "id": "isolated-catholic",
   "metadata": {},
   "source": [
    "# File Handling"
   ]
  },
  {
   "cell_type": "markdown",
   "id": "c9952178",
   "metadata": {},
   "source": [
    "## Write to a File\n",
    "Write a Python program that opens a `my_file.txt` file, writes the following text into it, and closes the file."
   ]
  },
  {
   "cell_type": "code",
   "id": "8acd47d0",
   "metadata": {
    "vscode": {
     "languageId": "plaintext"
    },
    "ExecuteTime": {
     "end_time": "2024-12-13T00:11:07.586588Z",
     "start_time": "2024-12-13T00:11:07.582172Z"
    }
   },
   "source": [
    "from fontTools.afmLib import readlines\n",
    "\n",
    "\"\"\" text = We learn Python.\n",
    "GISMA is our university.\n",
    "Cool!\n",
    "We like both Python and GISMA.\n",
    "\"\"\"\n",
    "\n",
    "with open(\"my_file.txt\", \"w\") as f:\n",
    "    f.write(\"We learn Python.\\n\"\"GISMA is our university.\\n\")\n",
    "    \n",
    "    \n",
    "    "
   ],
   "outputs": [],
   "execution_count": 9
  },
  {
   "cell_type": "markdown",
   "id": "89ef6b01",
   "metadata": {},
   "source": [
    "## Read a File\n",
    "Write a Python program that opens the `my_file.txt` file, reads its content, prints the content, and closes the file. "
   ]
  },
  {
   "cell_type": "code",
   "id": "4ea65727",
   "metadata": {
    "vscode": {
     "languageId": "plaintext"
    },
    "ExecuteTime": {
     "end_time": "2024-12-13T00:15:51.889722Z",
     "start_time": "2024-12-13T00:15:51.884243Z"
    }
   },
   "source": [
    "with open(\"my_file.txt\", \"r\") as f:\n",
    "    contents = f.read()\n",
    "    print(contents)"
   ],
   "outputs": [
    {
     "name": "stdout",
     "output_type": "stream",
     "text": [
      "We leaua Python.\n",
      "GIuaA is our university.\n",
      "\n"
     ]
    }
   ],
   "execution_count": 13
  },
  {
   "cell_type": "markdown",
   "id": "8e1dd626",
   "metadata": {},
   "source": [
    "## Work with the File Pointer\n",
    "Write a Python program that opens the `my_file.txt` file, moves the file pointer to the beginning of the word `like`, overwrites it with the word `LIKE`, and closes the file. "
   ]
  },
  {
   "cell_type": "code",
   "id": "575f0726",
   "metadata": {
    "vscode": {
     "languageId": "plaintext"
    },
    "ExecuteTime": {
     "end_time": "2024-12-13T00:12:45.171865Z",
     "start_time": "2024-12-13T00:12:45.166734Z"
    }
   },
   "source": [
    "with open(\"my_file.txt\", \"r+\") as f:\n",
    "    f.seek(20)\n",
    "    f.write(\"ua\")"
   ],
   "outputs": [],
   "execution_count": 12
  },
  {
   "cell_type": "markdown",
   "id": "7ca023bb",
   "metadata": {},
   "source": [
    "## Copy the Content of a File\n",
    "Write a Python program that opens the `my_file.txt` and `my_file_2.txt` files. It should read one line at a time from the first file. If this line contains either `Python` or `GISMA`, the line should be written in the second file. Otherwise, the line should be skipped. In the end, the program should close both files. "
   ]
  },
  {
   "cell_type": "code",
   "id": "0c80f8a0",
   "metadata": {
    "vscode": {
     "languageId": "plaintext"
    },
    "ExecuteTime": {
     "end_time": "2024-12-13T00:22:10.514656Z",
     "start_time": "2024-12-13T00:22:10.508826Z"
    }
   },
   "source": [
    "with open(\"my_file.txt\", \"r\") as f1:\n",
    "    content = f1.readlines()\n",
    "    with open(\"my_file2.txt\", \"w\") as f2:\n",
    "        for line in content:\n",
    "            if \"is\" in line:\n",
    "                f2.write(line)\n",
    "            \n",
    "            \n",
    "        "
   ],
   "outputs": [],
   "execution_count": 18
  },
  {
   "cell_type": "markdown",
   "id": "87cb4fc3",
   "metadata": {},
   "source": [
    "## Modify a File\n",
    "Write a Python program that opens the `my_file_2.txt` file. It should randomly choose a line and replace all characters of that line with `*`. In the end, the program should close the file. "
   ]
  },
  {
   "cell_type": "code",
   "id": "8695b533",
   "metadata": {
    "vscode": {
     "languageId": "plaintext"
    },
    "ExecuteTime": {
     "end_time": "2024-12-13T00:33:01.844525Z",
     "start_time": "2024-12-13T00:33:01.839106Z"
    }
   },
   "source": [
    "import random\n",
    "\n",
    "with open(\"my_file2.txt\", \"r+\") as f2:\n",
    "    lines = f2.readlines()\n",
    "    random_line_index = random.randint(0, len(lines) - 1)\n",
    "    f2.seek(random_line_index)\n",
    "    for letter in lines[random_line_index]:\n",
    "        f2.write(\"*\")\n",
    "\n",
    "    "
   ],
   "outputs": [],
   "execution_count": 19
  },
  {
   "cell_type": "markdown",
   "id": "2fe6538a",
   "metadata": {},
   "source": [
    "## Merge Two Files\n",
    "Write a Python program that adds the content of the `my_file.txt` file to the end of the `my_file_2.txt` file. "
   ]
  },
  {
   "metadata": {
    "ExecuteTime": {
     "end_time": "2024-12-13T00:49:00.280947Z",
     "start_time": "2024-12-13T00:49:00.275436Z"
    }
   },
   "cell_type": "code",
   "source": [
    "with open(\"my_file.txt\", \"r\") as f1:\n",
    "    content = f1.read()\n",
    "    with open(\"my_file2.txt\", \"a+\") as f2:\n",
    "        lines = f2.readlines()\n",
    "        lines_index = len(lines)\n",
    "        f2.seek(lines_index)\n",
    "        f2.write(content)"
   ],
   "id": "fe366f565eac69a7",
   "outputs": [],
   "execution_count": 29
  },
  {
   "metadata": {
    "ExecuteTime": {
     "end_time": "2024-12-13T00:45:17.714024Z",
     "start_time": "2024-12-13T00:45:17.708159Z"
    }
   },
   "cell_type": "code",
   "source": [
    " with open('my_file.txt', 'r') as f1, open('my_file2.txt', 'a') as f2:\n",
    "    f2.write(f1.read())"
   ],
   "id": "1f009a9764e55ed8",
   "outputs": [],
   "execution_count": 26
  }
 ],
 "metadata": {
  "kernelspec": {
   "display_name": "Python 3",
   "language": "python",
   "name": "python3"
  },
  "language_info": {
   "codemirror_mode": {
    "name": "ipython",
    "version": 3
   },
   "file_extension": ".py",
   "mimetype": "text/x-python",
   "name": "python",
   "nbconvert_exporter": "python",
   "pygments_lexer": "ipython3",
   "version": "3.8.5"
  }
 },
 "nbformat": 4,
 "nbformat_minor": 5
}
