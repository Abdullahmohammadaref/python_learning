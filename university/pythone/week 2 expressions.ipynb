{
 "cells": [
  {
   "cell_type": "markdown",
   "id": "loved-gallery",
   "metadata": {},
   "source": [
    "# Expressions"
   ]
  },
  {
   "cell_type": "markdown",
   "id": "false-documentary",
   "metadata": {},
   "source": [
    "## Count Seconds in a Decade\n",
    "Write a Python program to calculate the number of seconds in 10 years. Assume that we have 2 leap years in this period. Assign the result into a variable named `seconds_in_10_years`."
   ]
  },
  {
   "cell_type": "code",
   "id": "prescribed-faculty",
   "metadata": {
    "ExecuteTime": {
     "end_time": "2024-11-26T17:04:29.237397Z",
     "start_time": "2024-11-26T17:04:29.224981Z"
    }
   },
   "source": [
    "seconds_in_10_years = ((((365*8)+(366*2))*24)*60)*60\n",
    "print(seconds_in_10_years)"
   ],
   "outputs": [
    {
     "name": "stdout",
     "output_type": "stream",
     "text": [
      "315532800\n"
     ]
    }
   ],
   "execution_count": 3
  },
  {
   "cell_type": "markdown",
   "id": "sealed-mouth",
   "metadata": {},
   "source": [
    "## Compute the Area of a Circle\n",
    "Write a Python program that computes the area of a circle based on a given radius. The area of circle can be computed by the following formula: $ a = \\pi r^2 $."
   ]
  },
  {
   "cell_type": "code",
   "id": "amber-macedonia",
   "metadata": {
    "ExecuteTime": {
     "end_time": "2024-11-26T20:59:53.315051Z",
     "start_time": "2024-11-26T20:59:53.304481Z"
    }
   },
   "source": [
    "r = 12\n",
    "area = 3.14 * r**2\n",
    "print(area)"
   ],
   "outputs": [
    {
     "name": "stdout",
     "output_type": "stream",
     "text": [
      "452.16\n"
     ]
    }
   ],
   "execution_count": 9
  },
  {
   "metadata": {},
   "cell_type": "code",
   "outputs": [],
   "execution_count": null,
   "source": "",
   "id": "c5d2acd4d09c91a3"
  },
  {
   "cell_type": "markdown",
   "id": "attached-cleaning",
   "metadata": {},
   "source": [
    "## Compute Maximum of Numbers\n",
    "Write a Python program that computes the maximum of two inputs: \n",
    "- The first input should be the absolute of -4. \n",
    "- The second input should be the length of the string `\"abc\"`."
   ]
  },
  {
   "cell_type": "code",
   "id": "aware-resort",
   "metadata": {
    "ExecuteTime": {
     "end_time": "2024-11-26T21:30:43.262787Z",
     "start_time": "2024-11-26T21:30:43.258973Z"
    }
   },
   "source": [
    "number = abs(-4)\n",
    "my_str = \"abc\"\n",
    "lis1 = [number, len(my_str)]\n",
    "max = lis1[0]\n",
    "for i in lis1:\n",
    "    if i > max:\n",
    "        max = i\n",
    "print(max)"
   ],
   "outputs": [
    {
     "name": "stdout",
     "output_type": "stream",
     "text": [
      "4\n"
     ]
    }
   ],
   "execution_count": 20
  },
  {
   "cell_type": "markdown",
   "id": "cooperative-request",
   "metadata": {},
   "source": [
    "## Compute Euclidean Distance\n",
    "Write a Python program to compute the Euclidean distance between two given points $ (x_1, y_1) $ and $ (x_2, y_2) $, which is $ \\sqrt{(x_1 - x_2)^2 + (y_1 - y_2)^2} $."
   ]
  },
  {
   "cell_type": "code",
   "id": "killing-shore",
   "metadata": {
    "ExecuteTime": {
     "end_time": "2024-11-26T21:45:40.473743Z",
     "start_time": "2024-11-26T21:45:40.468167Z"
    }
   },
   "source": [
    "point1 = (1, 1)\n",
    "point2 = (1, 2)\n",
    "distance = (((point1[0] - point2[0])**2) + ((point1[1] - point2[1])**2))**(1/2)\n",
    "print(distance)"
   ],
   "outputs": [
    {
     "name": "stdout",
     "output_type": "stream",
     "text": [
      "1.0\n"
     ]
    }
   ],
   "execution_count": 26
  },
  {
   "cell_type": "markdown",
   "id": "color-texas",
   "metadata": {},
   "source": [
    "## Convert Fahrenheit to Celsius \n",
    "Write a Python program to convert fahrenheit to celsius based on the the following formula: $ C = (F - 32) \\times \\frac{5}{9}. $"
   ]
  },
  {
   "cell_type": "code",
   "id": "broad-ordinary",
   "metadata": {
    "ExecuteTime": {
     "end_time": "2024-11-26T22:03:36.071146Z",
     "start_time": "2024-11-26T22:03:36.061335Z"
    }
   },
   "source": [
    "f = 32\n",
    "c = (f-32)*(5/9)\n",
    "print(c)"
   ],
   "outputs": [
    {
     "name": "stdout",
     "output_type": "stream",
     "text": [
      "0.0\n"
     ]
    }
   ],
   "execution_count": 27
  },
  {
   "cell_type": "markdown",
   "id": "imported-yeast",
   "metadata": {},
   "source": [
    "## Print User's Name\n",
    "Write a Python program which accepts the user's first and last name and prints them in reverse order with a space between them. For example, if the user enters `John Doe`, the program should print `Doe John`. Note that you can use the `input()` function to take user's inputs."
   ]
  },
  {
   "cell_type": "code",
   "id": "inner-arabic",
   "metadata": {
    "ExecuteTime": {
     "end_time": "2024-11-26T22:11:36.895427Z",
     "start_time": "2024-11-26T22:11:31.963100Z"
    }
   },
   "source": [
    "user_name = str(input(\"Enter your name: \")).split(\" \")\n",
    "print(' '.join(user_name[::-1]))"
   ],
   "outputs": [
    {
     "name": "stdout",
     "output_type": "stream",
     "text": [
      "aref abdullah\n"
     ]
    }
   ],
   "execution_count": 30
  },
  {
   "cell_type": "markdown",
   "id": "3d187e0e",
   "metadata": {},
   "source": [
    "## Read a Text File\n",
    "Write a Python program that opens a text file named `my_file.txt` and writes `Hello world!` in that file."
   ]
  },
  {
   "cell_type": "code",
   "id": "468bc699",
   "metadata": {
    "ExecuteTime": {
     "end_time": "2024-11-26T22:34:11.901348Z",
     "start_time": "2024-11-26T22:34:11.895225Z"
    }
   },
   "source": [
    "with open('hello.txt', 'w') as file:\n",
    "    file.write('Hello world!')"
   ],
   "outputs": [],
   "execution_count": 33
  }
 ],
 "metadata": {
  "kernelspec": {
   "display_name": "Python 3",
   "language": "python",
   "name": "python3"
  },
  "language_info": {
   "codemirror_mode": {
    "name": "ipython",
    "version": 3
   },
   "file_extension": ".py",
   "mimetype": "text/x-python",
   "name": "python",
   "nbconvert_exporter": "python",
   "pygments_lexer": "ipython3",
   "version": "3.8.5"
  }
 },
 "nbformat": 4,
 "nbformat_minor": 5
}
