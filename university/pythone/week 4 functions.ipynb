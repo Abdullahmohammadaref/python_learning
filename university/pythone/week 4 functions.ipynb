{
 "cells": [
  {
   "cell_type": "markdown",
   "id": "qualified-overhead",
   "metadata": {},
   "source": [
    "# Functions"
   ]
  },
  {
   "cell_type": "markdown",
   "id": "geographic-kazakhstan",
   "metadata": {},
   "source": [
    "## Count Non-Vowel Characters\n",
    "Write a Python function that takes a string and returns the number of non-vowel characters in that string. Vowel characters in English are `\"a\"`, `\"e\"`, `\"i\"`, `\"o\"`, and `\"u\"`. For example, given the string `\"abcdA\"`, the function should return 3."
   ]
  },
  {
   "cell_type": "code",
   "id": "increased-introduction",
   "metadata": {},
   "source": [
    "from university.week_2.github2 import number\n",
    "\n",
    "\n",
    "def non_vowel_characters_counter(string):\n",
    "    vowels = ['a', 'e', 'i', 'o', 'u', 'A', 'E', 'I', 'O', 'U']\n",
    "    count = 0\n",
    "    for letter in string:\n",
    "        if letter not in vowels:\n",
    "            count += 1\n",
    "    return count\n",
    "\n",
    "def main():\n",
    "    string = input(\"Enter a string: \")\n",
    "    print(non_vowel_characters_counter(string))\n",
    "    \n",
    "if __name__ == '__main__':\n",
    "    main()\n",
    "    \n",
    "            "
   ],
   "outputs": [],
   "execution_count": null
  },
  {
   "cell_type": "markdown",
   "id": "permanent-lawsuit",
   "metadata": {},
   "source": [
    "## Multiply the List Elements\n",
    "Write a Python function that takes a list of values as input and returns the product of all the numbers in the list. For example, given the input list `[1, 3, 8]`, the function should return 24."
   ]
  },
  {
   "cell_type": "code",
   "id": "extensive-dividend",
   "metadata": {},
   "source": [
    "def multiply(numbers):\n",
    "    result = 1\n",
    "    for number in numbers:\n",
    "        result *= number\n",
    "    return result\n",
    "\n",
    "def main():\n",
    "    list1 = [1, 3, 8]\n",
    "    print(multiply(list1))\n",
    "    \n",
    "if __name__ == '__main__':\n",
    "    main()"
   ],
   "outputs": [],
   "execution_count": null
  },
  {
   "cell_type": "markdown",
   "id": "documented-discharge",
   "metadata": {},
   "source": [
    "## Check if a String is Palindrome\n",
    "Write a Python function that takes a string and returns `True` if it is palindrome. A palindrome is a word, number, phrase, or other sequence of characters which reads the same backward as forward. For example, given the string `\"abc\"` the function should return `False`. But, given the string `\"aba\"`, the function should return `True`."
   ]
  },
  {
   "cell_type": "code",
   "id": "homeless-generator",
   "metadata": {},
   "source": [
    "def palindrome_checker(string):\n",
    "    reversed_string = string[::-1]\n",
    "    if string == reversed_string:\n",
    "        return True\n",
    "    else:\n",
    "        return False\n",
    "    \n",
    "def main():\n",
    "    print(palindrome_checker(\"aba\"))\n",
    "    \n",
    "if __name__ == '__main__':\n",
    "    main()\n",
    "        \n",
    "        "
   ],
   "outputs": [],
   "execution_count": null
  },
  {
   "cell_type": "markdown",
   "id": "retired-craps",
   "metadata": {},
   "source": [
    "## Count the Unique Digits in an Integer\n",
    "Write a Python function that takes a positive integer and returns the number of unique digits in that integer. For example, given the integer 12315, the function should return 4."
   ]
  },
  {
   "cell_type": "code",
   "id": "australian-resort",
   "metadata": {},
   "source": [
    "def unique_digits_counter(integer):\n",
    "    number = str(integer)\n",
    "    unique_digits_list = []\n",
    "    for digit in number:\n",
    "        if digit not in unique_digits_list:\n",
    "            unique_digits_list.append(digit)\n",
    "    return len(unique_digits_list)\n",
    "\n",
    "def main():\n",
    "    number = 12315\n",
    "    print(unique_digits_counter(number))\n",
    "    \n",
    "if __name__ == '__main__':\n",
    "    main()\n",
    "            "
   ],
   "outputs": [],
   "execution_count": null
  },
  {
   "cell_type": "markdown",
   "id": "upset-physiology",
   "metadata": {},
   "source": [
    "## Check a Number is Prime\n",
    "Write a Python function that takes a number and checks the number is prime or not. It should return `True` for being prime and `False` otherwise. Note that a prime number (or a prime) is a natural number greater than 1 and that has no positive divisors other than 1 and itself. For example, the function should return `True` for the given number 7 and `False` for the given number 10."
   ]
  },
  {
   "cell_type": "code",
   "id": "normal-garbage",
   "metadata": {
    "ExecuteTime": {
     "end_time": "2024-11-27T17:58:14.170465Z",
     "start_time": "2024-11-27T17:58:14.155699Z"
    }
   },
   "source": [
    "# i don't understand what is happening in the back when I input 2\n",
    "def is_prime(num):\n",
    "  if num <= 1:\n",
    "    return False\n",
    "  for i in range(2, num + 1):\n",
    "    if num % i == 0:\n",
    "      return False\n",
    "  return True\n",
    "def main():\n",
    "    print(is_prime(2))\n",
    "\n",
    "if __name__ == '__main__':\n",
    "    main()"
   ],
   "outputs": [
    {
     "name": "stdout",
     "output_type": "stream",
     "text": [
      "False\n"
     ]
    }
   ],
   "execution_count": 56
  },
  {
   "cell_type": "markdown",
   "id": "daily-console",
   "metadata": {},
   "source": [
    "## Sort Hyphened-Seperated Words\n",
    "Write a Python function that takes a sequence of words that are separated by hyphens as input and returns the words in a hyphen-separated sequence after sorting the words alphabetically. For example, given the string `\"green-red-yellow-black-white\"`, the function should return `\"black-green-red-white-yellow\"`."
   ]
  },
  {
   "cell_type": "code",
   "id": "aging-staff",
   "metadata": {
    "ExecuteTime": {
     "end_time": "2024-11-27T20:21:22.573847Z",
     "start_time": "2024-11-27T20:21:22.570017Z"
    }
   },
   "source": [
    "def hyphened_seperated_words_sorter(string):\n",
    "    string = sorted(string.split(\"-\"))\n",
    "    sorted_string = \"-\".join(string)\n",
    "    return sorted_string\n",
    "def main():\n",
    "    print(hyphened_seperated_words_sorter(\"green-red-yellow-black-white\"))\n",
    "    \n",
    "if __name__ == '__main__':\n",
    "    main()"
   ],
   "outputs": [
    {
     "name": "stdout",
     "output_type": "stream",
     "text": [
      "black-green-red-white-yellow\n"
     ]
    }
   ],
   "execution_count": 13
  },
  {
   "cell_type": "markdown",
   "id": "dressed-leisure",
   "metadata": {},
   "source": [
    "## Count the Characters\n",
    "Write a Python function that takes a string as input and returns a dictionary that stores the frequency of each character in the input string. For example, given the string `\"abca\"`, the function should return `{'a': 2, 'b': 1, 'c': 1}`."
   ]
  },
  {
   "cell_type": "code",
   "id": "complete-stress",
   "metadata": {
    "ExecuteTime": {
     "end_time": "2024-11-27T23:32:01.398974Z",
     "start_time": "2024-11-27T23:32:01.385770Z"
    }
   },
   "source": [
    "def counter(string):    \n",
    "    counting_dict = {}\n",
    "    for letter in string:\n",
    "        if letter in counting_dict:\n",
    "            counting_dict[letter] += 1\n",
    "        else:\n",
    "            counting_dict[letter] = 1\n",
    "    return counting_dict\n",
    "\n",
    "\"\"\"\n",
    "this code is a better altenrativee for line 4,5,6,7\n",
    "        counting_dict[letter] = counting_dict.get(letter, 0) + 1\n",
    "\"\"\"\n",
    "\n",
    "def main():\n",
    "    print(counter(\"abca\"))\n",
    "\n",
    "if __name__ == '__main__':\n",
    "    main()\n",
    "     "
   ],
   "outputs": [
    {
     "name": "stdout",
     "output_type": "stream",
     "text": [
      "{'a': 2, 'b': 1, 'c': 1}\n"
     ]
    }
   ],
   "execution_count": 2
  },
  {
   "cell_type": "markdown",
   "id": "aerial-uganda",
   "metadata": {},
   "source": [
    "## Compute the Fibonacci Sequence\n",
    "The Fibonacci Sequence is computed based on the following formula:     \n",
    "\n",
    "$$ f(n) = 0 \\text{   if } n = 0; \\\\\n",
    "f(n) = 1 \\text{   if } n = 1; \\\\\n",
    "f(n) = f(n-1) + f(n-2) \\text{   if } n > 1. $$     \n",
    "\n",
    "Write a Python function that computes the value of `f(n)` with a given `n` as input. For example, given 7, the function should return 13."
   ]
  },
  {
   "cell_type": "code",
   "id": "compatible-senate",
   "metadata": {
    "ExecuteTime": {
     "end_time": "2024-11-27T23:54:20.258698Z",
     "start_time": "2024-11-27T23:54:20.248907Z"
    }
   },
   "source": [
    "def fibonacci(number):\n",
    "    if number == 0:\n",
    "        return 0\n",
    "    elif number == 1:\n",
    "        return 1\n",
    "    else:\n",
    "        return fibonacci(number - 1) + fibonacci(number - 2)\n",
    "    \n",
    "def main():\n",
    "    print(fibonacci(7))\n",
    "\n",
    "if __name__ == '__main__':\n",
    "    main()"
   ],
   "outputs": [
    {
     "name": "stdout",
     "output_type": "stream",
     "text": [
      "13\n"
     ]
    }
   ],
   "execution_count": 3
  }
 ],
 "metadata": {
  "kernelspec": {
   "display_name": "Python 3",
   "language": "python",
   "name": "python3"
  },
  "language_info": {
   "codemirror_mode": {
    "name": "ipython",
    "version": 3
   },
   "file_extension": ".py",
   "mimetype": "text/x-python",
   "name": "python",
   "nbconvert_exporter": "python",
   "pygments_lexer": "ipython3",
   "version": "3.8.5"
  }
 },
 "nbformat": 4,
 "nbformat_minor": 5
}
