{
 "cells": [
  {
   "cell_type": "markdown",
   "id": "novel-stream",
   "metadata": {},
   "source": [
    "# Data Types"
   ]
  },
  {
   "cell_type": "markdown",
   "id": "finite-albania",
   "metadata": {},
   "source": [
    "## Remove Vowels\n",
    "Write a Python program that takes a string, makes the character lowercase, removes its vowel characters (`\"a\"`, `\"e\"`, `\"i\"`, `\"o\"`, and `\"u\"`) and prints the result. For example, given the string `\"Hello\"`, the program should print `\"hll\"`."
   ]
  },
  {
   "cell_type": "code",
   "id": "human-century",
   "metadata": {
    "ExecuteTime": {
     "end_time": "2024-11-26T00:04:32.503725Z",
     "start_time": "2024-11-26T00:04:27.497841Z"
    }
   },
   "source": [
    "user_input = str(input(\"Enter a string: \")).lower()\n",
    "output = \"\"\n",
    "for i in user_input:\n",
    "    if i not in \"aeiou\":\n",
    "        output += i\n",
    "    if i in \"aeiou\":\n",
    "        output += \"\"\n",
    "print(output)\n",
    "        "
   ],
   "outputs": [
    {
     "name": "stdout",
     "output_type": "stream",
     "text": [
      "hll\n"
     ]
    }
   ],
   "execution_count": 7
  },
  {
   "cell_type": "markdown",
   "id": "formed-candy",
   "metadata": {},
   "source": [
    "## Reverse the Words\n",
    "Write a Python program that takes a string containing some words that are separeted with whitespace, reverses the words in the string, and prints the result. For example, given the string `\"hello how are you\"`, the program should print `\"you are how hello\"`. "
   ]
  },
  {
   "cell_type": "code",
   "id": "forward-berry",
   "metadata": {
    "ExecuteTime": {
     "end_time": "2024-11-26T16:56:35.826188Z",
     "start_time": "2024-11-26T16:56:35.806161Z"
    }
   },
   "source": [
    "# i need to understand args to solve this.\n",
    "user_input = \"hello how are you\".split()\n",
    "output = user_input[::-1]\n",
    "output = ' '.join(output)\n",
    "print(output)\n"
   ],
   "outputs": [
    {
     "name": "stdout",
     "output_type": "stream",
     "text": [
      "you are how\n"
     ]
    }
   ],
   "execution_count": 37
  },
  {
   "cell_type": "markdown",
   "id": "after-radius",
   "metadata": {},
   "source": [
    "## Count Common Elements of 2 Lists\n",
    "Write a Python program that prints the number of common elements in two given lists. For example, given `[1, 2, 3]` and `[5, 1, 3]`, the program should print 2."
   ]
  },
  {
   "cell_type": "code",
   "id": "adverse-berkeley",
   "metadata": {
    "ExecuteTime": {
     "end_time": "2024-11-26T00:29:51.821402Z",
     "start_time": "2024-11-26T00:29:51.809964Z"
    }
   },
   "source": [
    "list1 = [1, 2, 3]\n",
    "list2 = [4, 1, 3]\n",
    "output = 0\n",
    "for i in list1:\n",
    "    for j in list2:\n",
    "        if i == j:\n",
    "            output += 1\n",
    "print(output)"
   ],
   "outputs": [
    {
     "name": "stdout",
     "output_type": "stream",
     "text": [
      "2\n"
     ]
    }
   ],
   "execution_count": 13
  },
  {
   "cell_type": "markdown",
   "id": "secret-theme",
   "metadata": {},
   "source": [
    "## Print Sorted Unique Words\n",
    "Write a Python program that takes a string containing some words that are separeted with whitespace, removes all duplicate words, sorts the remaining words alphanumerically, and prints the result. For example, given the string `\"hello world and practice makes perfect and hello world again\"`, the program should print `\"again and hello makes perfect practice world\"`."
   ]
  },
  {
   "cell_type": "code",
   "id": "requested-rapid",
   "metadata": {
    "ExecuteTime": {
     "end_time": "2024-11-26T00:54:05.444013Z",
     "start_time": "2024-11-26T00:54:05.435497Z"
    }
   },
   "source": [
    "# look at better way suggested by chat gpt\n",
    "\n",
    "\n",
    "user_input = \"hello world and practice makes perfect and hello world again\".split(\" \")\n",
    "sorted_user_input = sorted(user_input)\n",
    "output = \"\"\n",
    "for i in sorted_user_input:\n",
    "    if i not in output:\n",
    "        output += f'{i} '\n",
    "output = output.strip()\n",
    "print(output)"
   ],
   "outputs": [
    {
     "name": "stdout",
     "output_type": "stream",
     "text": [
      "again and hello makes perfect practice world\n"
     ]
    }
   ],
   "execution_count": 41
  },
  {
   "cell_type": "markdown",
   "id": "satellite-residence",
   "metadata": {},
   "source": [
    "## Convert a List of Integers to an Integer\n",
    "Write a Python program to convert a given list of integers to an integer. For example, given `[11, 2, 54]`, the program should assign 11254 into an integer variable."
   ]
  },
  {
   "cell_type": "code",
   "id": "excessive-spectrum",
   "metadata": {
    "ExecuteTime": {
     "end_time": "2024-11-26T01:12:21.695968Z",
     "start_time": "2024-11-26T01:12:21.690695Z"
    }
   },
   "source": [
    "list1 = [11, 2, 54]\n",
    "number = \"\"\n",
    "for i in list1:\n",
    "    number += str(i)\n",
    "number = int(number)\n",
    "print(number)\n",
    "    "
   ],
   "outputs": [
    {
     "name": "stdout",
     "output_type": "stream",
     "text": [
      "11254\n"
     ]
    }
   ],
   "execution_count": 49
  }
 ],
 "metadata": {
  "kernelspec": {
   "display_name": "Python 3",
   "language": "python",
   "name": "python3"
  },
  "language_info": {
   "codemirror_mode": {
    "name": "ipython",
    "version": 3
   },
   "file_extension": ".py",
   "mimetype": "text/x-python",
   "name": "python",
   "nbconvert_exporter": "python",
   "pygments_lexer": "ipython3",
   "version": "3.8.5"
  }
 },
 "nbformat": 4,
 "nbformat_minor": 5
}
