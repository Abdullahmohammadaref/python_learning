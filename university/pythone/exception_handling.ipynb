{
 "cells": [
  {
   "cell_type": "markdown",
   "id": "isolated-catholic",
   "metadata": {},
   "source": [
    "# Exception Handling\n",
    "Define class Person with the followings:\n",
    "- A `passport_number` attribute. \n",
    "- A `name` attribute. \n",
    "- A `birthday` attribute. \n",
    "- An `email_address` attribute. \n",
    "- An `__init__` method.\n",
    "- A `__str__` method.\n",
    "- A `set_passport_number` method. It should set the passport number if the value contains 9 alphanumeric characters and its first character is a letter. Otherwise, a custom `InvalidPassportNumber` exception should be raised. \n",
    "- A `set_name` method. It should set the name if the value contains 3 to 20 letters. Otherwise, a custom `InvalidName` exception should be raised. \n",
    "- A `set_birthday` method. It should set the birthday if the value is a correct date formatted as `dd.mm.yyyy`. Otherwise, a custom `InvalidBirthday` exception should be raised. \n",
    "- A `set_email_address` method. It should set the email address if the value is formatted as a valid email address. Otherwise, a custom `InvalidEmailAddress` exception should be raised. \n",
    "- A `get_age` method. It should calculate an integer value between 0 and 120 as the current age. Otherwise, a custom `InvalidAge` exception should be raised. \n",
    "\n",
    "Instantiate a couple of Person objects. Use `try` and `except` blocks to catch the exceptions you have defined."
   ]
  },
  {
   "cell_type": "code",
   "id": "87442759",
   "metadata": {
    "vscode": {
     "languageId": "plaintext"
    },
    "ExecuteTime": {
     "end_time": "2024-12-12T22:16:13.410267Z",
     "start_time": "2024-12-12T22:15:54.430667Z"
    }
   },
   "source": [
    "import string\n",
    "\n",
    "class InvalidPassportNumber(Exception):\n",
    "    pass\n",
    "\n",
    "class InvalidName(Exception):\n",
    "    pass\n",
    "\n",
    "class InvalidBirthday(Exception):\n",
    "    pass\n",
    "\n",
    "class InvalidEmailAddress(Exception):\n",
    "    pass\n",
    "\n",
    "class InvalidAge(Exception):\n",
    "    pass\n",
    "\n",
    "class Person:\n",
    "    \n",
    "    def __init__(self, passport_number, name, birthday, email_address):\n",
    "        self.passport_number = passport_number\n",
    "        self.name = name\n",
    "        self.birthday = birthday\n",
    "        self.email_address = email_address\n",
    "    \n",
    "    def __str__(self):\n",
    "        return f\"Passport number: {self.passport_number}\\nName: {self.name}\\nBirthday: {self.birthday}\\nEmail address: {self.email_address}\"\n",
    "    \n",
    "    def set_passport_number(self, passport_number):\n",
    "        if len(passport_number) == 9 and passport_number[0].isalpha() and passport_number.isalnum():\n",
    "            self.passport_number = passport_number\n",
    "        else:\n",
    "            raise InvalidPassportNumber(\"Invalid passport number format!\")\n",
    "        \n",
    "    def set_name(self, name):\n",
    "        if 3 <= len(name) <= 20 and name.isalpha():\n",
    "            self.name = name\n",
    "        else:\n",
    "            raise InvalidName(\"Invalid name format!\")\n",
    "        \n",
    "    def set_birthday(self, birthday):\n",
    "        \n",
    "        try:\n",
    "            day, month, year = birthday.split(\".\")\n",
    "            if not (1 <= month <= 12 and 1 <= day <= 31):\n",
    "                raise InvalidBirthday(\"Invalid date format\")\n",
    "            elif month == 2 and day > 29:\n",
    "                raise InvalidBirthday(\"Invalid date format\")\n",
    "            else:\n",
    "                self.birthday = birthday\n",
    "        except ValueError:\n",
    "            raise InvalidBirthday(\"Invalid date format\")\n",
    "        \n",
    "    def set_email_address(self, email_address):\n",
    "        if not \"@\" in email_address or not \".\" in email_address:\n",
    "            raise InvalidEmailAddress(\"Invalid email address format!\")\n",
    "        self.email_address = email_address\n",
    "    \n",
    "def main():\n",
    "    while True:\n",
    "        person = Person(\"\", \"\", \"\", \"\")\n",
    "        person.set_passport_number(input(\"Enter passport number: \").strip(\" \"))\n",
    "        person.set_name(input(\"Enter name: \").strip(\" \"))\n",
    "        person.set_birthday(input(\"Enter birthday: \").split(\" \"))\n",
    "        person.set_email_address(input(\"Enter email address: \").strip(\" \"))\n",
    "        print(person)\n",
    "        user_choice = input(\"Would you like to try again? (y/n): \")\n",
    "        if user_choice == \"y\":\n",
    "            continue\n",
    "        else:\n",
    "            break\n",
    "    \n",
    "if __name__ == '__main__':\n",
    "    main()"
   ],
   "outputs": [
    {
     "ename": "AttributeError",
     "evalue": "'list' object has no attribute 'split'",
     "output_type": "error",
     "traceback": [
      "\u001B[1;31m---------------------------------------------------------------------------\u001B[0m",
      "\u001B[1;31mAttributeError\u001B[0m                            Traceback (most recent call last)",
      "Cell \u001B[1;32mIn[4], line 74\u001B[0m\n\u001B[0;32m     71\u001B[0m             \u001B[38;5;28;01mbreak\u001B[39;00m\n\u001B[0;32m     73\u001B[0m \u001B[38;5;28;01mif\u001B[39;00m \u001B[38;5;18m__name__\u001B[39m \u001B[38;5;241m==\u001B[39m \u001B[38;5;124m'\u001B[39m\u001B[38;5;124m__main__\u001B[39m\u001B[38;5;124m'\u001B[39m:\n\u001B[1;32m---> 74\u001B[0m     \u001B[43mmain\u001B[49m\u001B[43m(\u001B[49m\u001B[43m)\u001B[49m\n",
      "Cell \u001B[1;32mIn[4], line 64\u001B[0m, in \u001B[0;36mmain\u001B[1;34m()\u001B[0m\n\u001B[0;32m     62\u001B[0m person\u001B[38;5;241m.\u001B[39mset_passport_number(\u001B[38;5;28minput\u001B[39m(\u001B[38;5;124m\"\u001B[39m\u001B[38;5;124mEnter passport number: \u001B[39m\u001B[38;5;124m\"\u001B[39m)\u001B[38;5;241m.\u001B[39mstrip(\u001B[38;5;124m\"\u001B[39m\u001B[38;5;124m \u001B[39m\u001B[38;5;124m\"\u001B[39m))\n\u001B[0;32m     63\u001B[0m person\u001B[38;5;241m.\u001B[39mset_name(\u001B[38;5;28minput\u001B[39m(\u001B[38;5;124m\"\u001B[39m\u001B[38;5;124mEnter name: \u001B[39m\u001B[38;5;124m\"\u001B[39m)\u001B[38;5;241m.\u001B[39mstrip(\u001B[38;5;124m\"\u001B[39m\u001B[38;5;124m \u001B[39m\u001B[38;5;124m\"\u001B[39m))\n\u001B[1;32m---> 64\u001B[0m \u001B[43mperson\u001B[49m\u001B[38;5;241;43m.\u001B[39;49m\u001B[43mset_birthday\u001B[49m\u001B[43m(\u001B[49m\u001B[38;5;28;43minput\u001B[39;49m\u001B[43m(\u001B[49m\u001B[38;5;124;43m\"\u001B[39;49m\u001B[38;5;124;43mEnter birthday: \u001B[39;49m\u001B[38;5;124;43m\"\u001B[39;49m\u001B[43m)\u001B[49m\u001B[38;5;241;43m.\u001B[39;49m\u001B[43msplit\u001B[49m\u001B[43m(\u001B[49m\u001B[38;5;124;43m\"\u001B[39;49m\u001B[38;5;124;43m \u001B[39;49m\u001B[38;5;124;43m\"\u001B[39;49m\u001B[43m)\u001B[49m\u001B[43m)\u001B[49m\n\u001B[0;32m     65\u001B[0m person\u001B[38;5;241m.\u001B[39mset_email_address(\u001B[38;5;28minput\u001B[39m(\u001B[38;5;124m\"\u001B[39m\u001B[38;5;124mEnter email address: \u001B[39m\u001B[38;5;124m\"\u001B[39m)\u001B[38;5;241m.\u001B[39mstrip(\u001B[38;5;124m\"\u001B[39m\u001B[38;5;124m \u001B[39m\u001B[38;5;124m\"\u001B[39m))\n\u001B[0;32m     66\u001B[0m \u001B[38;5;28mprint\u001B[39m(person)\n",
      "Cell \u001B[1;32mIn[4], line 44\u001B[0m, in \u001B[0;36mPerson.set_birthday\u001B[1;34m(self, birthday)\u001B[0m\n\u001B[0;32m     41\u001B[0m \u001B[38;5;28;01mdef\u001B[39;00m \u001B[38;5;21mset_birthday\u001B[39m(\u001B[38;5;28mself\u001B[39m, birthday):\n\u001B[0;32m     43\u001B[0m     \u001B[38;5;28;01mtry\u001B[39;00m:\n\u001B[1;32m---> 44\u001B[0m         day, month, year \u001B[38;5;241m=\u001B[39m \u001B[43mbirthday\u001B[49m\u001B[38;5;241;43m.\u001B[39;49m\u001B[43msplit\u001B[49m(\u001B[38;5;124m\"\u001B[39m\u001B[38;5;124m.\u001B[39m\u001B[38;5;124m\"\u001B[39m)\n\u001B[0;32m     45\u001B[0m         \u001B[38;5;28;01mif\u001B[39;00m \u001B[38;5;129;01mnot\u001B[39;00m (\u001B[38;5;241m1\u001B[39m \u001B[38;5;241m<\u001B[39m\u001B[38;5;241m=\u001B[39m month \u001B[38;5;241m<\u001B[39m\u001B[38;5;241m=\u001B[39m \u001B[38;5;241m12\u001B[39m \u001B[38;5;129;01mand\u001B[39;00m \u001B[38;5;241m1\u001B[39m \u001B[38;5;241m<\u001B[39m\u001B[38;5;241m=\u001B[39m day \u001B[38;5;241m<\u001B[39m\u001B[38;5;241m=\u001B[39m \u001B[38;5;241m31\u001B[39m):\n\u001B[0;32m     46\u001B[0m             \u001B[38;5;28;01mraise\u001B[39;00m InvalidBirthday(\u001B[38;5;124m\"\u001B[39m\u001B[38;5;124mInvalid date format\u001B[39m\u001B[38;5;124m\"\u001B[39m)\n",
      "\u001B[1;31mAttributeError\u001B[0m: 'list' object has no attribute 'split'"
     ]
    }
   ],
   "execution_count": 4
  }
 ],
 "metadata": {
  "kernelspec": {
   "display_name": "Python 3",
   "language": "python",
   "name": "python3"
  },
  "language_info": {
   "codemirror_mode": {
    "name": "ipython",
    "version": 3
   },
   "file_extension": ".py",
   "mimetype": "text/x-python",
   "name": "python",
   "nbconvert_exporter": "python",
   "pygments_lexer": "ipython3",
   "version": "3.8.5"
  }
 },
 "nbformat": 4,
 "nbformat_minor": 5
}
