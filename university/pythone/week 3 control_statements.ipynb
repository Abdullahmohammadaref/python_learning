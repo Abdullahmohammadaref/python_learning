{
 "cells": [
  {
   "cell_type": "markdown",
   "id": "broad-significance",
   "metadata": {},
   "source": [
    "# Control Statements"
   ]
  },
  {
   "cell_type": "markdown",
   "id": "mighty-picnic",
   "metadata": {},
   "source": [
    "## Check 2 Numbers are Dividable\n",
    "Write a Python prgoram that takes 2 numbers and prints whether the first one is dividable by the second one or not. For example, if the user inputs 10 and 5, the program should print `\"10 is dividable by 5\"`. "
   ]
  },
  {
   "cell_type": "code",
   "id": "everyday-league",
   "metadata": {
    "ExecuteTime": {
     "end_time": "2024-11-27T00:38:44.742878Z",
     "start_time": "2024-11-27T00:38:35.953154Z"
    }
   },
   "source": [
    "from jinja2.nodes import Break\n",
    "\n",
    "number1 = int(input(\"Enter first number: \"))\n",
    "number2 = int(input(\"Enter second number: \"))\n",
    "if number1 % number2 == 0:\n",
    "    print(\"numbers are divisible\")\n",
    "else:\n",
    "    print(\"numbers are not divisible\")"
   ],
   "outputs": [
    {
     "name": "stdout",
     "output_type": "stream",
     "text": [
      "numbers are divisible\n"
     ]
    }
   ],
   "execution_count": 5
  },
  {
   "cell_type": "markdown",
   "id": "certified-smell",
   "metadata": {},
   "source": [
    "## Check a Website Address Has .com\n",
    "Write a Python program that takes a website address and prints out whether it ends with `.com` or not. For example, given the string `\"www.google.com\"`, the program should print `\"www.google.com ends with .com\"`."
   ]
  },
  {
   "cell_type": "code",
   "id": "framed-index",
   "metadata": {
    "ExecuteTime": {
     "end_time": "2024-11-27T00:41:00.044702Z",
     "start_time": "2024-11-27T00:40:53.789135Z"
    }
   },
   "source": [
    "website_url = input(\"Enter website url: \")\n",
    "if website_url.endswith(\".com\"):\n",
    "    print(f'{website_url} ends with .com')\n",
    "else:\n",
    "    print(f'{website_url} doesn\\'t ends with .com')"
   ],
   "outputs": [
    {
     "name": "stdout",
     "output_type": "stream",
     "text": [
      "www.google.org doesn't ends with .com\n"
     ]
    }
   ],
   "execution_count": 7
  },
  {
   "cell_type": "markdown",
   "id": "lonely-hollow",
   "metadata": {},
   "source": [
    "## Remove Non-String List Elements\n",
    "Write a Python program that takes a list and create another list that only contains string elements of the first list. For example, given the list `[1, \"hello\", 4.3, True, \"bye\"]`, the program should define a list `[\"hello\", \"bye\"]`."
   ]
  },
  {
   "cell_type": "code",
   "id": "compound-commissioner",
   "metadata": {
    "ExecuteTime": {
     "end_time": "2024-11-27T00:46:38.364909Z",
     "start_time": "2024-11-27T00:46:38.350283Z"
    }
   },
   "source": [
    "list1 = [1, \"hello\", 4.3, True, \"bye\"]\n",
    "list2 = []\n",
    "for item in list1:\n",
    "    if type(item) is str :\n",
    "        list2.append(item)\n",
    "print(list2)      "
   ],
   "outputs": [
    {
     "name": "stdout",
     "output_type": "stream",
     "text": [
      "[True]\n"
     ]
    }
   ],
   "execution_count": 10
  },
  {
   "cell_type": "markdown",
   "id": "conceptual-lobby",
   "metadata": {},
   "source": [
    "## Compare Numbers\n",
    "Write a Python program that takes an integer, compares it to a predefined number, and tells the user to guess a larger or smaller number. For example, suppose the predefined number is 10 and the user inputs 7. The program should print `\"7 is too small!\"`."
   ]
  },
  {
   "cell_type": "code",
   "id": "religious-leonard",
   "metadata": {
    "ExecuteTime": {
     "end_time": "2024-11-27T01:03:13.116015Z",
     "start_time": "2024-11-27T01:03:09.442608Z"
    }
   },
   "source": [
    "user_input = float(input(\"Enter a number: \"))\n",
    "number = 10\n",
    "if user_input > number:\n",
    "    print(f\"{user_input} is too big!\")\n",
    "elif user_input < number:\n",
    "    print(f\"{user_input} is too small!\")\n",
    "else:\n",
    "    print(f\"{user_input} is equal to {number}\")"
   ],
   "outputs": [
    {
     "name": "stdout",
     "output_type": "stream",
     "text": [
      "7.0 is too small!\n"
     ]
    }
   ],
   "execution_count": 11
  },
  {
   "cell_type": "markdown",
   "id": "gorgeous-knitting",
   "metadata": {},
   "source": [
    "## Sum Even Numbers\n",
    "Write a Python program that computes the sum of even numbers in a given list of integers. "
   ]
  },
  {
   "cell_type": "code",
   "id": "artificial-professor",
   "metadata": {
    "ExecuteTime": {
     "end_time": "2024-11-27T01:06:18.260559Z",
     "start_time": "2024-11-27T01:06:18.248026Z"
    }
   },
   "source": [
    "list1 = [1, 2, 3, 4, 5]\n",
    "sum = 0\n",
    "for item in list1:\n",
    "    if item % 2 == 0:\n",
    "        sum += item\n",
    "print(sum)"
   ],
   "outputs": [
    {
     "name": "stdout",
     "output_type": "stream",
     "text": [
      "6\n"
     ]
    }
   ],
   "execution_count": 12
  },
  {
   "cell_type": "markdown",
   "id": "e3044c58",
   "metadata": {},
   "source": [
    "## Find All Divisors\n",
    "Write a Python prgoram that find all divisors of a given positive integer and store them in a list. For example, given 10, the resulting list should be `[1, 2, 5, 10]`."
   ]
  },
  {
   "cell_type": "code",
   "id": "9bee6850",
   "metadata": {
    "ExecuteTime": {
     "end_time": "2024-11-27T01:22:14.204485Z",
     "start_time": "2024-11-27T01:22:12.054117Z"
    }
   },
   "source": [
    "while True:\n",
    "    try:\n",
    "        number = int(input(\"Enter a number: \"))\n",
    "        if number < 0:\n",
    "            raise ValueError\n",
    "        list1 = []\n",
    "        for i in range(1, number + 1):\n",
    "            if number % i == 0:\n",
    "                list1.append(i)\n",
    "        print(list1)\n",
    "        break\n",
    "    except ValueError:\n",
    "        print(\"Please enter a positive number\")"
   ],
   "outputs": [
    {
     "name": "stdout",
     "output_type": "stream",
     "text": [
      "[1, 2, 5, 10]\n"
     ]
    }
   ],
   "execution_count": 21
  },
  {
   "cell_type": "markdown",
   "id": "41b462e9",
   "metadata": {},
   "source": [
    "## Find the Largest Word\n",
    "Write a Python program that finds the largest word in a given input string. For example, given the string `\"hello how are you\"`, the program should print `\"hello\"`."
   ]
  },
  {
   "cell_type": "code",
   "id": "13037cad",
   "metadata": {
    "ExecuteTime": {
     "end_time": "2024-11-27T01:24:38.040733Z",
     "start_time": "2024-11-27T01:24:31.437294Z"
    }
   },
   "source": [
    "user_input = str(input(\"Enter a sentence: \")).split(\" \")\n",
    "largest_word = user_input[0]\n",
    "for word in user_input:\n",
    "    if len(word) > len(largest_word):\n",
    "        largest_word = word\n",
    "print(largest_word)"
   ],
   "outputs": [
    {
     "name": "stdout",
     "output_type": "stream",
     "text": [
      "hello\n"
     ]
    }
   ],
   "execution_count": 22
  },
  {
   "cell_type": "markdown",
   "id": "3b71775e",
   "metadata": {},
   "source": [
    "## Count the Frequency of List Elements\n",
    "Write a Python program that counts the frequency of each element in a given list and store them in a dictionary. For example, given the list `[111, \"hello\", 222, \"hello\", 111]`, the program should define a dictionary `{111: 2, \"hello\": 2, 222: 1}`."
   ]
  },
  {
   "cell_type": "code",
   "id": "fdb69cdb",
   "metadata": {
    "ExecuteTime": {
     "end_time": "2024-11-27T01:28:44.389901Z",
     "start_time": "2024-11-27T01:28:44.383055Z"
    }
   },
   "source": [
    "# intresting\n",
    "list1 = [111, \"hello\", 222, \"hello\", 111]\n",
    "dict1 = {}\n",
    "for item in list1:\n",
    "    dict1[item] = dict1.get(item, 0) + 1\n",
    "print(dict1)"
   ],
   "outputs": [
    {
     "name": "stdout",
     "output_type": "stream",
     "text": [
      "{111: 2, 'hello': 2, 222: 1}\n"
     ]
    }
   ],
   "execution_count": 23
  }
 ],
 "metadata": {
  "kernelspec": {
   "display_name": "Python 3",
   "language": "python",
   "name": "python3"
  },
  "language_info": {
   "codemirror_mode": {
    "name": "ipython",
    "version": 3
   },
   "file_extension": ".py",
   "mimetype": "text/x-python",
   "name": "python",
   "nbconvert_exporter": "python",
   "pygments_lexer": "ipython3",
   "version": "3.8.5"
  }
 },
 "nbformat": 4,
 "nbformat_minor": 5
}
