{
  "nbformat": 4,
  "nbformat_minor": 0,
  "metadata": {
    "colab": {
      "provenance": []
    },
    "kernelspec": {
      "name": "python3",
      "display_name": "Python 3"
    },
    "language_info": {
      "name": "python"
    }
  },
  "cells": [
    {
      "cell_type": "markdown",
      "source": [
        "# **Implementing a Python Stack**\n",
        "\n",
        "\n",
        "*   list\n",
        "*   collections.deque\n",
        "*   queue.LifoQueue\n"
      ],
      "metadata": {
        "id": "NROl7UgYZQrC"
      }
    },
    {
      "cell_type": "code",
      "execution_count": null,
      "metadata": {
        "id": "UlFdDBmGZOya"
      },
      "outputs": [],
      "source": [
        "myStack = []\n",
        "\n",
        "myStack.append('a')\n",
        "myStack.append('b')\n",
        "myStack.append('c')\n",
        "\n"
      ]
    },
    {
      "cell_type": "code",
      "source": [
        "myStack.pop()"
      ],
      "metadata": {
        "colab": {
          "base_uri": "https://localhost:8080/",
          "height": 35
        },
        "id": "HG91iPIqZprv",
        "outputId": "b5ef274b-00a1-4114-dbe9-75f3f6889987"
      },
      "execution_count": null,
      "outputs": [
        {
          "output_type": "execute_result",
          "data": {
            "text/plain": [
              "'c'"
            ],
            "application/vnd.google.colaboratory.intrinsic+json": {
              "type": "string"
            }
          },
          "metadata": {},
          "execution_count": 3
        }
      ]
    },
    {
      "cell_type": "code",
      "source": [
        "myStack.pop()"
      ],
      "metadata": {
        "colab": {
          "base_uri": "https://localhost:8080/",
          "height": 35
        },
        "id": "yADFC4vEZ4SK",
        "outputId": "365445eb-46d0-4284-e2a9-5cfcb92be48d"
      },
      "execution_count": null,
      "outputs": [
        {
          "output_type": "execute_result",
          "data": {
            "text/plain": [
              "'b'"
            ],
            "application/vnd.google.colaboratory.intrinsic+json": {
              "type": "string"
            }
          },
          "metadata": {},
          "execution_count": 4
        }
      ]
    },
    {
      "cell_type": "code",
      "source": [
        "myStack.pop()"
      ],
      "metadata": {
        "colab": {
          "base_uri": "https://localhost:8080/",
          "height": 35
        },
        "id": "ZGO9gZlVZ6M1",
        "outputId": "a2851ca3-e660-4cf7-be79-10d617592c01"
      },
      "execution_count": null,
      "outputs": [
        {
          "output_type": "execute_result",
          "data": {
            "text/plain": [
              "'a'"
            ],
            "application/vnd.google.colaboratory.intrinsic+json": {
              "type": "string"
            }
          },
          "metadata": {},
          "execution_count": 5
        }
      ]
    },
    {
      "cell_type": "code",
      "source": [
        "myStack.pop()"
      ],
      "metadata": {
        "colab": {
          "base_uri": "https://localhost:8080/",
          "height": 141
        },
        "collapsed": true,
        "id": "6WsgRiymZ8KV",
        "outputId": "58b272e9-c037-44d2-be74-9997fa32e78d"
      },
      "execution_count": null,
      "outputs": [
        {
          "output_type": "error",
          "ename": "IndexError",
          "evalue": "pop from empty list",
          "traceback": [
            "\u001b[0;31m---------------------------------------------------------------------------\u001b[0m",
            "\u001b[0;31mIndexError\u001b[0m                                Traceback (most recent call last)",
            "\u001b[0;32m<ipython-input-6-295b95af4d0e>\u001b[0m in \u001b[0;36m<cell line: 1>\u001b[0;34m()\u001b[0m\n\u001b[0;32m----> 1\u001b[0;31m \u001b[0mmyStack\u001b[0m\u001b[0;34m.\u001b[0m\u001b[0mpop\u001b[0m\u001b[0;34m(\u001b[0m\u001b[0;34m)\u001b[0m\u001b[0;34m\u001b[0m\u001b[0;34m\u001b[0m\u001b[0m\n\u001b[0m",
            "\u001b[0;31mIndexError\u001b[0m: pop from empty list"
          ]
        }
      ]
    },
    {
      "cell_type": "markdown",
      "source": [
        "deque is built upon a doubly linked list."
      ],
      "metadata": {
        "id": "9AX7HS_IcAbl"
      }
    },
    {
      "cell_type": "code",
      "source": [
        "from collections import deque\n",
        "\n",
        "myStack = deque()\n",
        "\n",
        "myStack.append('a')"
      ],
      "metadata": {
        "id": "eCFrdahzZ8wS"
      },
      "execution_count": null,
      "outputs": []
    },
    {
      "cell_type": "code",
      "source": [
        "myStack.append('b')\n",
        "myStack.append('2')"
      ],
      "metadata": {
        "id": "0qVqyFazaKEN"
      },
      "execution_count": null,
      "outputs": []
    },
    {
      "cell_type": "code",
      "source": [
        "myStack"
      ],
      "metadata": {
        "colab": {
          "base_uri": "https://localhost:8080/"
        },
        "id": "tdoCoUUFaWHx",
        "outputId": "1b8bb1cd-bfbd-47a2-882e-6f48bc6f5e55"
      },
      "execution_count": null,
      "outputs": [
        {
          "output_type": "execute_result",
          "data": {
            "text/plain": [
              "deque(['a', 'b', '2'])"
            ]
          },
          "metadata": {},
          "execution_count": 11
        }
      ]
    },
    {
      "cell_type": "code",
      "source": [
        "myStack.pop()"
      ],
      "metadata": {
        "colab": {
          "base_uri": "https://localhost:8080/",
          "height": 35
        },
        "id": "rzn5q_zxaYMn",
        "outputId": "6e7294f7-3047-4500-8583-3a7f164a1038"
      },
      "execution_count": null,
      "outputs": [
        {
          "output_type": "execute_result",
          "data": {
            "text/plain": [
              "'2'"
            ],
            "application/vnd.google.colaboratory.intrinsic+json": {
              "type": "string"
            }
          },
          "metadata": {},
          "execution_count": 12
        }
      ]
    },
    {
      "cell_type": "markdown",
      "source": [
        "LifoQueue can be useful in multi-threaded programs and  is designed to be fully thread-safe."
      ],
      "metadata": {
        "id": "2drEsZr6cs2m"
      }
    },
    {
      "cell_type": "code",
      "source": [
        "from queue import LifoQueue\n",
        "myStack = LifoQueue()\n",
        "\n",
        "myStack.put('a')\n",
        "myStack.put('b')\n",
        "myStack.put('c')\n",
        "\n",
        "myStack\n",
        "\n",
        "\n",
        "myStack.get()\n",
        "\n",
        "myStack.get()\n",
        "\n",
        "myStack.get()\n",
        "\n"
      ],
      "metadata": {
        "colab": {
          "base_uri": "https://localhost:8080/",
          "height": 35
        },
        "id": "gIuwYC8pCmNr",
        "outputId": "681ad06c-7693-4db7-897f-08d25497ac40"
      },
      "execution_count": null,
      "outputs": [
        {
          "output_type": "execute_result",
          "data": {
            "text/plain": [
              "'a'"
            ],
            "application/vnd.google.colaboratory.intrinsic+json": {
              "type": "string"
            }
          },
          "metadata": {},
          "execution_count": 10
        }
      ]
    },
    {
      "cell_type": "markdown",
      "source": [
        "# **Checking Balanced Parentheses**\n",
        "\n",
        "\n",
        "\n",
        "*   Open brackets must be closed by the same type of brackets.\n",
        "*   Open brackets must be closed in the correct order.\n",
        "\n",
        "\n",
        "\n",
        "![](https://ucarecdn.com/6b23e87d-a7f7-4eee-a55b-441918eb51a4/)\n",
        "![image.png](data:image/png;base64,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)\n",
        "\n"
      ],
      "metadata": {
        "id": "43F5UaqT0xxG"
      }
    },
    {
      "cell_type": "code",
      "source": [
        "class Stack:\n",
        "    def __init__(self):\n",
        "        self.items = []\n",
        "\n",
        "    def is_empty(self):\n",
        "        return len(self.items) == 0\n",
        "\n",
        "    def push(self, item):\n",
        "        self.items.append(item)\n",
        "\n",
        "    def pop(self):\n",
        "        if not self.is_empty():\n",
        "            return self.items.pop()\n",
        "        return None\n",
        "\n",
        "    def peek(self):\n",
        "        if not self.is_empty():\n",
        "          #In Python, using -1 as an index retrieves the last item of the list.\n",
        "            return self.items[-1]\n",
        "        return None\n"
      ],
      "metadata": {
        "id": "iyFkQ4tOacoD"
      },
      "execution_count": null,
      "outputs": []
    },
    {
      "cell_type": "code",
      "source": [
        "def is_balanced(string):\n",
        "    stack = Stack()\n",
        "    for char in string:\n",
        "        if char in \"({[\":\n",
        "            stack.push(char)\n",
        "        elif char in \")}]\":\n",
        "            if stack.is_empty():\n",
        "                return False\n",
        "            top = stack.pop()\n",
        "            if not matches(top, char):\n",
        "                return False\n",
        "    return stack.is_empty()"
      ],
      "metadata": {
        "id": "2NPj4S_8sNQU"
      },
      "execution_count": null,
      "outputs": []
    },
    {
      "cell_type": "code",
      "source": [
        "def matches(opening, closing):\n",
        "    pairs = { '(': ')', '{': '}', '[': ']' }\n",
        "    return pairs.get(opening) == closing"
      ],
      "metadata": {
        "id": "sCkg8BTksVWh"
      },
      "execution_count": null,
      "outputs": []
    },
    {
      "cell_type": "code",
      "source": [
        "test_string = \"{[()()]}\"\n",
        "if is_balanced(test_string):\n",
        "    print(f\"The string '{test_string}' is balanced.\")\n",
        "else:\n",
        "    print(f\"The string '{test_string}' is not balanced.\")"
      ],
      "metadata": {
        "colab": {
          "base_uri": "https://localhost:8080/"
        },
        "id": "12rAkWkusZ6P",
        "outputId": "2068eb66-d2bc-4152-ebd4-9a5f879edf5a"
      },
      "execution_count": null,
      "outputs": [
        {
          "output_type": "stream",
          "name": "stdout",
          "text": [
            "The string '{[()()]}' is balanced.\n"
          ]
        }
      ]
    },
    {
      "cell_type": "code",
      "source": [],
      "metadata": {
        "id": "X4USbjGEdzDa"
      },
      "execution_count": null,
      "outputs": []
    }
  ]
}