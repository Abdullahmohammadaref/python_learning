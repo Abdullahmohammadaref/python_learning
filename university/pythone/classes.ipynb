{
 "cells": [
  {
   "cell_type": "markdown",
   "id": "isolated-catholic",
   "metadata": {},
   "source": [
    "# Classes"
   ]
  },
  {
   "cell_type": "markdown",
   "id": "ab3e9f09b47825ca",
   "metadata": {},
   "source": [
    "## Course Class\n",
    "Define a course class with the followings:\n",
    "- A `code` attribute.\n",
    "- A `name` attribute.\n",
    "- A `credits` attribute.\n",
    "- A `semester` attribute.\n",
    "- An `instructor` attribute.\n",
    "- An `__init__` method.\n",
    "- A `__str__` method."
   ]
  },
  {
   "cell_type": "code",
   "execution_count": null,
   "id": "e6eee1fd",
   "metadata": {},
   "outputs": [],
   "source": [
    "class Course:\n",
    "    \n",
    "    def __init__(self, code, name, credits, semester, instructor):\n",
    "        self.code = code\n",
    "        self.name = name\n",
    "        self.credits = credits\n",
    "        self.semester = semester\n",
    "        self.instructor = instructor\n",
    "    \n",
    "    def __str__(self):\n",
    "        "
   ]
  },
  {
   "cell_type": "markdown",
   "id": "2fc352713142dc13",
   "metadata": {},
   "source": [
    "## Student Class\n",
    "Define a student class with the followings:\n",
    "- A `first_name` attribute.\n",
    "- A `last_name` attribute.\n",
    "- An `number` attribute.\n",
    "- A `courses` attribute that stores a dictionary of passed **course objects** and their mark.\n",
    "- An `__init__` method.\n",
    "- A `__str__` method.\n",
    "- A `get_gpa` method.\n",
    "- A `set_course_mark` method."
   ]
  },
  {
   "cell_type": "code",
   "execution_count": null,
   "id": "according-purse",
   "metadata": {},
   "outputs": [],
   "source": [
    "class Student:\n",
    "    \n",
    "    def __init__(self, first_name, last_name, number):\n",
    "        self.first_name = first_name\n",
    "        self.last_name = last_name\n",
    "        self.number = number\n",
    "        self.courses = {}\n",
    "    \n",
    "    def __str__(self):\n",
    "        \n",
    "    def get_gpa(self):\n",
    "        \n",
    "    def set_course_mark(self):\n",
    "    "
   ]
  },
  {
   "cell_type": "markdown",
   "id": "palestinian-expert",
   "metadata": {},
   "source": [
    "## University Class\n",
    "Define a university class with the followings:\n",
    "- A `name` attribute.\n",
    "- A `students` attribute that stores a list of **student objects**.\n",
    "- An `__init__` method.\n",
    "- A `__str__` method.\n",
    "- A `register_student` method.\n",
    "- A `graduate_student` method."
   ]
  },
  {
   "cell_type": "code",
   "execution_count": null,
   "id": "going-custom",
   "metadata": {},
   "outputs": [],
   "source": [
    "class University:\n",
    "    \n",
    "    def __init__(self, name):\n",
    "        self.name = name\n",
    "        self.students = []\n",
    "        \n",
    "    def __str__(self):\n",
    "        \n",
    "    def register_student(self):\n",
    "        \n",
    "    def graduate_student(self):\n",
    "        "
   ]
  }
 ],
 "metadata": {
  "kernelspec": {
   "display_name": "Python 3",
   "language": "python",
   "name": "python3"
  },
  "language_info": {
   "codemirror_mode": {
    "name": "ipython",
    "version": 3
   },
   "file_extension": ".py",
   "mimetype": "text/x-python",
   "name": "python",
   "nbconvert_exporter": "python",
   "pygments_lexer": "ipython3",
   "version": "3.8.5"
  }
 },
 "nbformat": 4,
 "nbformat_minor": 5
}
