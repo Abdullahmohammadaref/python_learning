{
 "cells": [
  {
   "cell_type": "markdown",
   "id": "bibliographic-edward",
   "metadata": {},
   "source": [
    "# Modules and Packages"
   ]
  },
  {
   "cell_type": "markdown",
   "id": "actual-chinese",
   "metadata": {},
   "source": [
    "## os\n",
    "Write a Python program to print the list of files in the current folder and their absolute path."
   ]
  },
  {
   "cell_type": "code",
   "id": "tender-colombia",
   "metadata": {
    "ExecuteTime": {
     "end_time": "2024-12-13T01:21:26.862462Z",
     "start_time": "2024-12-13T01:21:26.845946Z"
    }
   },
   "source": [
    "import os\n",
    "\n",
    "current_dir = os.getcwd()\n",
    "\n",
    "for filename in os.listdir(current_dir):\n",
    "    file_path = os.path.join(current_dir, filename)\n",
    "    if os.path.isfile(file_path):\n",
    "        print(file_path)\n"
   ],
   "outputs": [
    {
     "name": "stdout",
     "output_type": "stream",
     "text": [
      "D:\\Files\\code\\python_learning\\university\\pythone\\classes.ipynb\n",
      "D:\\Files\\code\\python_learning\\university\\pythone\\code_style.ipynb\n",
      "D:\\Files\\code\\python_learning\\university\\pythone\\exception_handling.ipynb\n",
      "D:\\Files\\code\\python_learning\\university\\pythone\\file_handling.ipynb\n",
      "D:\\Files\\code\\python_learning\\university\\pythone\\hello.txt\n",
      "D:\\Files\\code\\python_learning\\university\\pythone\\modules_and_packages.ipynb\n",
      "D:\\Files\\code\\python_learning\\university\\pythone\\my_file.txt\n",
      "D:\\Files\\code\\python_learning\\university\\pythone\\my_file2.txt\n",
      "D:\\Files\\code\\python_learning\\university\\pythone\\week 2 data_types.ipynb\n",
      "D:\\Files\\code\\python_learning\\university\\pythone\\week 2 expressions.ipynb\n",
      "D:\\Files\\code\\python_learning\\university\\pythone\\week 3 control_statements.ipynb\n",
      "D:\\Files\\code\\python_learning\\university\\pythone\\week 4 functions.ipynb\n"
     ]
    }
   ],
   "execution_count": 1
  },
  {
   "cell_type": "markdown",
   "id": "burning-montreal",
   "metadata": {},
   "source": [
    "## math\n",
    "Write a Python program that finds the maximum of log$_2 10000$ and $ e^e $."
   ]
  },
  {
   "cell_type": "code",
   "id": "saved-craft",
   "metadata": {
    "ExecuteTime": {
     "end_time": "2024-12-13T01:28:10.176260Z",
     "start_time": "2024-12-13T01:28:10.165063Z"
    }
   },
   "source": [
    "import math\n",
    "\n",
    "print(max(math.log2(1000), math.exp(math.e)))"
   ],
   "outputs": [
    {
     "name": "stdout",
     "output_type": "stream",
     "text": [
      "15.154262241479262\n"
     ]
    }
   ],
   "execution_count": 2
  },
  {
   "cell_type": "markdown",
   "id": "opponent-morning",
   "metadata": {},
   "source": [
    "## random\n",
    "Write a Python function that takes a probability between 0.0 and 1.0 and returns `True` with that probability. For example, if the input probability is 0.3, the function should return `True` in the 30\\% of times and `False` in the 70\\% of times."
   ]
  },
  {
   "cell_type": "code",
   "id": "global-alpha",
   "metadata": {
    "ExecuteTime": {
     "end_time": "2024-12-13T01:34:19.294681Z",
     "start_time": "2024-12-13T01:34:19.290665Z"
    }
   },
   "source": [
    "import random\n",
    "\n",
    "import random\n",
    "\n",
    "probability = 0.3  # Adjust the probability as needed\n",
    "\n",
    "if random.random() < probability:\n",
    "    print(True)\n",
    "else:\n",
    "    print(False)\n"
   ],
   "outputs": [
    {
     "name": "stdout",
     "output_type": "stream",
     "text": [
      "True\n"
     ]
    }
   ],
   "execution_count": 9
  },
  {
   "cell_type": "markdown",
   "id": "novel-rotation",
   "metadata": {},
   "source": [
    "## pickle\n",
    "Write a Python program to store a dictionary on the hard disk and load it again."
   ]
  },
  {
   "cell_type": "code",
   "id": "convinced-fault",
   "metadata": {
    "ExecuteTime": {
     "end_time": "2024-12-13T01:37:30.444077Z",
     "start_time": "2024-12-13T01:37:30.437466Z"
    }
   },
   "source": [
    "import pickle\n",
    "\n",
    "# Create a dictionary\n",
    "my_dict = {'name': 'Alice', 'age': 30, 'city': 'New York'}\n",
    "\n",
    "# Save the dictionary to a file\n",
    "with open('my_dict.pkl', 'wb') as file:\n",
    "    pickle.dump(my_dict, file)\n",
    "\n",
    "# Load the dictionary from the file\n",
    "with open('my_dict.pkl', 'rb') as file:\n",
    "    loaded_dict = pickle.load(file)\n",
    "\n",
    "print(loaded_dict)"
   ],
   "outputs": [
    {
     "name": "stdout",
     "output_type": "stream",
     "text": [
      "{'name': 'Alice', 'age': 30, 'city': 'New York'}\n"
     ]
    }
   ],
   "execution_count": 10
  },
  {
   "cell_type": "markdown",
   "id": "scientific-timer",
   "metadata": {},
   "source": [
    "## json\n",
    "Write a Python program to store a dictionary as a json file on the hard disk and load it again."
   ]
  },
  {
   "cell_type": "code",
   "id": "western-resident",
   "metadata": {
    "ExecuteTime": {
     "end_time": "2024-12-13T01:38:00.762866Z",
     "start_time": "2024-12-13T01:38:00.747855Z"
    }
   },
   "source": [
    "import json\n",
    "\n",
    "# Create a dictionary\n",
    "my_dict = {'name': 'Alice', 'age': 30, 'city': 'New York'}\n",
    "\n",
    "# Save the dictionary as a JSON file\n",
    "with open('my_dict.json', 'w') as file:\n",
    "    json.dump(my_dict, file)\n",
    "\n",
    "# Load the dictionary from the JSON file\n",
    "with open('my_dict.json', 'r') as file:\n",
    "    loaded_dict = json.load(file)\n",
    "\n",
    "print(loaded_dict)"
   ],
   "outputs": [
    {
     "name": "stdout",
     "output_type": "stream",
     "text": [
      "{'name': 'Alice', 'age': 30, 'city': 'New York'}\n"
     ]
    }
   ],
   "execution_count": 11
  },
  {
   "cell_type": "markdown",
   "id": "hidden-quick",
   "metadata": {},
   "source": [
    "## re\n",
    "Write a function that takes a string as input and returns `True` if the format of the string matches the format of an email address."
   ]
  },
  {
   "cell_type": "code",
   "id": "cloudy-visiting",
   "metadata": {
    "ExecuteTime": {
     "end_time": "2024-12-13T01:41:01.256532Z",
     "start_time": "2024-12-13T01:41:01.251141Z"
    }
   },
   "source": [
    "import re\n",
    "\n",
    "email = \"john.doe@example.com\"  # Replace with the email to check\n",
    "\n",
    "email_regex = r'^[a-zA-Z0-9_.+-]+@[a-zA-Z0-9-]+\\.[a-zA-Z0-9-.]+$'\n",
    "\n",
    "if re.match(email_regex, email):\n",
    "    print(\"Valid email address\")\n",
    "else:\n",
    "    print(\"Invalid email address\")"
   ],
   "outputs": [
    {
     "name": "stdout",
     "output_type": "stream",
     "text": [
      "Valid email address\n"
     ]
    }
   ],
   "execution_count": 12
  }
 ],
 "metadata": {
  "kernelspec": {
   "display_name": "Python 3",
   "language": "python",
   "name": "python3"
  },
  "language_info": {
   "codemirror_mode": {
    "name": "ipython",
    "version": 3
   },
   "file_extension": ".py",
   "mimetype": "text/x-python",
   "name": "python",
   "nbconvert_exporter": "python",
   "pygments_lexer": "ipython3",
   "version": "3.8.5"
  }
 },
 "nbformat": 4,
 "nbformat_minor": 5
}
